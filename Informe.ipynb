{
 "cells": [
  {
   "cell_type": "markdown",
   "id": "2fec0445",
   "metadata": {},
   "source": [
    "# Ham Sandwich Tree\n",
    "\n",
    "El Ham Sandwich Tree es una estructura de datos que tiene como objetivo dividir de manera eficiente un conjunto de puntos en el espacio n-dimensional. Esta deriva del Ham Sandwich Theorem, por lo que es bastante importante entenderlo primeramente.\n",
    "\n",
    "## Ham Sandwich Theorem\n",
    "El teorema del pan con jamón dice que teniendo n objetos en el espacio, existe un único hiperplano n-1 dimensional que corta simultáneamente todos estos n objetos en dos partes de igual volumen (o medida). El nombre deriva del caso n = 3, en el que si tienes dos pedazos de pan y uno de jamón en un espacio tridimensional entonces existe un único plano que corta cada uno de los tres objetos en dos particiones de igual volumen.\n",
    "\n",
    "Este teorema cuando trabajas con puntos en vez de volúmenes de dice que siempre hay una partición en la cual divides la cantidad de puntos.\n",
    "\n",
    "### Demostración n = 2 (El teorema del pancake)\n",
    "Se procede a hacer una demostración para el caso específico n = 2: $\\newline$\n",
    "Sean dos regiones disjuntas a dividir $K_1$ y $K_2$ $\\newline$\n",
    "Sea el círculo $S^1 = \\{(x,y) \\in \\mathbb{R}^2 : x^2 + y^2 = 1\\}$, cada dirección en un plano tiene un vector unitario correspondiente, este puede ser pensado como un punto en el círculo $S^1$. Para cada dirección $m = (\\cos(\\theta), \\sin(\\theta)) \\in S^1$, hay una única línea l(m) con pendiente $\\tan(\\theta)$ que divide la región $K_1$ en partes igual área.\n",
    "\n",
    "Además, la línea l(m) divide $K_2$ en dos regiones, vamos a llamar a una de ella la parte positiva $P(m)$ y a la otra la parte negativa $N(m)$. Luego definimos una función $f: S^1 \\to \\mathbb{R}$ tal que\n",
    "\n",
    "$$f(m) := Área(K_2 \\cap P(m))$$\n",
    "\n",
    "Es decir, f(m) es el área contenida en la parte positiva de l(m). Dado que f(m) es una función continua, se puede usar el teorema de Borsuk-Ulman, el cual es un corolario del teorema del valor intermedio. Este teorema afirma que si $f: S^n \\to \\mathbb{R}^n$ es continua, entonces existe $x \\in S^n$ tal que: $f(-x) = f(x)$\n"
   ]
  },
  {
   "cell_type": "markdown",
   "id": "2fb05cfc",
   "metadata": {},
   "source": [
    "# Profiling\n"
   ]
  }
 ],
 "metadata": {
  "language_info": {
   "name": "python"
  }
 },
 "nbformat": 4,
 "nbformat_minor": 5
}
